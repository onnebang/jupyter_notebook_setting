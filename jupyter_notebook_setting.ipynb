{
 "cells": [
  {
   "cell_type": "code",
   "execution_count": 2,
   "id": "36e9f106-af8c-49f5-bf8b-2397d520e8a7",
   "metadata": {},
   "outputs": [],
   "source": [
    "#setting startup file"
   ]
  },
  {
   "cell_type": "code",
   "execution_count": 4,
   "id": "9c1a093c-9325-4f5a-957f-b8ede171f5e1",
   "metadata": {},
   "outputs": [],
   "source": [
    "# 1.make ipython profile"
   ]
  },
  {
   "cell_type": "code",
   "execution_count": 6,
   "id": "0971a6b1-c4eb-4dbd-91e3-26515a3f0aac",
   "metadata": {},
   "outputs": [
    {
     "name": "stderr",
     "output_type": "stream",
     "text": [
      "[ProfileCreate] Generating default config file: 'C:\\\\Users\\\\User\\\\.ipython\\\\profile_default\\\\ipython_config.py'\n",
      "[ProfileCreate] Generating default config file: 'C:\\\\Users\\\\User\\\\.ipython\\\\profile_default\\\\ipython_kernel_config.py'\n"
     ]
    }
   ],
   "source": [
    "!ipython profile create"
   ]
  },
  {
   "cell_type": "code",
   "execution_count": 8,
   "id": "aa1411f1-4db1-4106-a7f2-3b741e83fe30",
   "metadata": {},
   "outputs": [
    {
     "name": "stdout",
     "output_type": "stream",
     "text": [
      " C 드라이브의 볼륨에는 이름이 없습니다.\n",
      " 볼륨 일련 번호: 7C6C-FC35\n",
      "\n",
      " C:\\Users\\User\\.ipython 디렉터리\n",
      "\n",
      "2022-07-28  오전 10:57    <DIR>          .\n",
      "2022-07-28  오전 10:57    <DIR>          ..\n",
      "2022-07-28  오전 10:57    <DIR>          extensions\n",
      "2022-07-28  오전 10:57    <DIR>          nbextensions\n",
      "2022-08-05  오전 10:50    <DIR>          profile_default\n",
      "               0개 파일                   0 바이트\n",
      "               5개 디렉터리  129,971,589,120 바이트 남음\n"
     ]
    }
   ],
   "source": [
    "!dir C:\\Users\\User\\.ipython"
   ]
  },
  {
   "cell_type": "code",
   "execution_count": 9,
   "id": "b876497f-7fa1-4172-8554-a5433e7f4bfb",
   "metadata": {},
   "outputs": [
    {
     "name": "stdout",
     "output_type": "stream",
     "text": [
      " C 드라이브의 볼륨에는 이름이 없습니다.\n",
      " 볼륨 일련 번호: 7C6C-FC35\n",
      "\n",
      " C:\\Users\\User\\.ipython\\profile_default\\startup 디렉터리\n",
      "\n",
      "2022-07-28  오전 10:57    <DIR>          .\n",
      "2022-07-28  오전 10:57    <DIR>          ..\n",
      "2022-07-28  오전 10:57               371 README\n",
      "               1개 파일                 371 바이트\n",
      "               2개 디렉터리  129,970,475,008 바이트 남음\n"
     ]
    }
   ],
   "source": [
    "!dir C:\\Users\\User\\.ipython\\profile_default\\startup"
   ]
  },
  {
   "cell_type": "code",
   "execution_count": 10,
   "id": "7c3d6d3c-e41b-40ec-871b-8f61c2ec393c",
   "metadata": {},
   "outputs": [],
   "source": [
    "# %load C:\\Users\\User\\.ipython\\profile_default\\startup\\README\n",
    "This is the IPython startup directory\n",
    "\n",
    ".py and .ipy files in this directory will be run *prior* to any code or files specified\n",
    "via the exec_lines or exec_files configurables whenever you load this profile.\n",
    "\n",
    "Files will be run in lexicographical order, so you can control the execution order of files\n",
    "with a prefix, e.g.::\n",
    "\n",
    "    00-first.py\n",
    "    50-middle.py\n",
    "    99-last.ipy\n"
   ]
  },
  {
   "cell_type": "code",
   "execution_count": 12,
   "id": "1741ec8d-37b0-456d-a13f-0b3b5ff384fe",
   "metadata": {},
   "outputs": [
    {
     "name": "stdout",
     "output_type": "stream",
     "text": [
      "Writing C:\\Users\\User\\.ipython\\profile_default\\startup\\00-first.py\n"
     ]
    }
   ],
   "source": [
    "%%writefile C:\\Users\\User\\.ipython\\profile_default\\startup\\00-first.py\n",
    "import pandas as pd\n",
    "import numpy as np\n",
    "import requests"
   ]
  },
  {
   "cell_type": "code",
   "execution_count": 14,
   "id": "9ff786f2-1569-4d7d-a557-75ebce2ffc33",
   "metadata": {},
   "outputs": [],
   "source": [
    "# %load C:\\Users\\User\\.ipython\\profile_default\\startup\\00-first.py\n",
    "import pandas as pd\n",
    "import numpy as np\n",
    "import requests\n"
   ]
  },
  {
   "cell_type": "code",
   "execution_count": null,
   "id": "eb45fbbb-2922-47f0-b389-82627a6c5243",
   "metadata": {},
   "outputs": [],
   "source": []
  },
  {
   "cell_type": "code",
   "execution_count": 5,
   "id": "10db49ac-0f3c-41b7-90c1-31f3ed9eaf94",
   "metadata": {},
   "outputs": [],
   "source": [
    "# 2. make .py file in startup directory"
   ]
  },
  {
   "cell_type": "code",
   "execution_count": null,
   "id": "f94e0786-5eb7-4a67-8521-f029fdc3f7a1",
   "metadata": {},
   "outputs": [],
   "source": []
  }
 ],
 "metadata": {
  "kernelspec": {
   "display_name": "Python 3",
   "language": "python",
   "name": "python3"
  },
  "language_info": {
   "codemirror_mode": {
    "name": "ipython",
    "version": 3
   },
   "file_extension": ".py",
   "mimetype": "text/x-python",
   "name": "python",
   "nbconvert_exporter": "python",
   "pygments_lexer": "ipython3",
   "version": "3.8.8"
  }
 },
 "nbformat": 4,
 "nbformat_minor": 5
}
